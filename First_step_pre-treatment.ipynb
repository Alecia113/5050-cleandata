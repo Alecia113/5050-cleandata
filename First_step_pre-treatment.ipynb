{
 "cells": [
  {
   "cell_type": "code",
   "execution_count": 146,
   "id": "b75b3b4a",
   "metadata": {},
   "outputs": [],
   "source": [
    "import numpy as np\n",
    "import pandas as pd\n",
    "\n",
    "# Load data from file\n",
    "flood = pd.read_excel('FloodArchive.xlsx', engine='openpyxl')\n",
    "flood = np.array(flood)\n",
    "countries = np.loadtxt('countries.csv', delimiter=',', dtype=str, skiprows=1, usecols=(0))\n",
    "countries = countries.tolist()"
   ]
  },
  {
   "cell_type": "code",
   "execution_count": 206,
   "id": "e7802181",
   "metadata": {
    "scrolled": false
   },
   "outputs": [],
   "source": [
    "flood_cleaned = []"
   ]
  },
  {
   "cell_type": "code",
   "execution_count": 207,
   "id": "d8845e61",
   "metadata": {},
   "outputs": [],
   "source": [
    "for i in range(len(countries)):\n",
    "    countries[i] = countries[i].replace(\"\\\"\", \"\").strip(\" \")\n",
    "    \n",
    "for i in range(flood.shape[0]):\n",
    "    flood[i][2] = flood[i][2].strip(\" \")\n",
    "    if isinstance(flood[i][3],str):\n",
    "        flood[i][3] = flood[i][3].strip(\" \")"
   ]
  },
  {
   "cell_type": "code",
   "execution_count": 208,
   "id": "5ee8e63b",
   "metadata": {},
   "outputs": [],
   "source": [
    "def get_similarity(name, name_list):\n",
    "    maximum_similarity = 0\n",
    "    possible = None\n",
    "    for i in range(len(name_list)):\n",
    "        relevant = 0\n",
    "        if len(name) <= len(name_list[i]):\n",
    "            for char in name:\n",
    "                if char in name_list[i]:\n",
    "                    relevant+=1\n",
    "            similarity = relevant/len(name_list[i])\n",
    "            if similarity > maximum_similarity:\n",
    "                maximum_similarity = similarity\n",
    "                possible = name_list[i]\n",
    "    return maximum_similarity, possible"
   ]
  },
  {
   "cell_type": "code",
   "execution_count": 209,
   "id": "728f277d",
   "metadata": {},
   "outputs": [],
   "source": [
    "for i in range(flood.shape[0]):\n",
    "    record = flood[i]\n",
    "    country = record[2]\n",
    "    other_country = record[3]\n",
    "    if country in countries:\n",
    "        if other_country in countries or not isinstance(other_country, str):\n",
    "            flood_cleaned.append(record)\n",
    "    else:\n",
    "        similarity_country, possible_country = get_similarity(country, countries)\n",
    "        if similarity_country > 0.8:\n",
    "            record[2] = possible_country\n",
    "        if isinstance(other_country, str):\n",
    "            similarity_other, possible_other = get_similarity(other_country, countries)\n",
    "            if similarity_other > 0.8:\n",
    "                record[3] = possible_other\n",
    "        flood_cleaned.append(record)"
   ]
  },
  {
   "cell_type": "code",
   "execution_count": 210,
   "id": "a59111b4",
   "metadata": {},
   "outputs": [],
   "source": [
    "flood_cleaned = np.array(flood_cleaned)"
   ]
  },
  {
   "cell_type": "code",
   "execution_count": 211,
   "id": "3c63cc66",
   "metadata": {},
   "outputs": [
    {
     "data": {
      "text/plain": [
       "(5094, 14)"
      ]
     },
     "execution_count": 211,
     "metadata": {},
     "output_type": "execute_result"
    }
   ],
   "source": [
    "flood_cleaned.shape"
   ]
  },
  {
   "cell_type": "code",
   "execution_count": 212,
   "id": "915fbf84",
   "metadata": {},
   "outputs": [
    {
     "data": {
      "text/plain": [
       "(5130, 14)"
      ]
     },
     "execution_count": 212,
     "metadata": {},
     "output_type": "execute_result"
    }
   ],
   "source": [
    "flood.shape"
   ]
  },
  {
   "cell_type": "code",
   "execution_count": 213,
   "id": "e7c48308",
   "metadata": {},
   "outputs": [
    {
     "data": {
      "text/plain": [
       "array([[1, 0, 'Algeria', ..., 3000, 'Heavy rain', 1.0],\n",
       "       [2, 0, 'Brazil', ..., 80000, 'Heavy rain', 2.0],\n",
       "       [3, 0, 'Philippines', ..., 444, 'Torrential rain', 1.0],\n",
       "       ...,\n",
       "       [5129, nan, 'Mexico', ..., 2440, 'Heavy Rain', 1.5],\n",
       "       [5130, nan, 'India', ..., 500000, 'Monsoonal Rain', 1.5],\n",
       "       [5131, nan, 'Italy', ..., 0, 'Torrential Rain', 1.5]], dtype=object)"
      ]
     },
     "execution_count": 213,
     "metadata": {},
     "output_type": "execute_result"
    }
   ],
   "source": [
    "flood_cleaned"
   ]
  }
 ],
 "metadata": {
  "kernelspec": {
   "display_name": "Python 3 (ipykernel)",
   "language": "python",
   "name": "python3"
  },
  "language_info": {
   "codemirror_mode": {
    "name": "ipython",
    "version": 3
   },
   "file_extension": ".py",
   "mimetype": "text/x-python",
   "name": "python",
   "nbconvert_exporter": "python",
   "pygments_lexer": "ipython3",
   "version": "3.9.7"
  }
 },
 "nbformat": 4,
 "nbformat_minor": 5
}
